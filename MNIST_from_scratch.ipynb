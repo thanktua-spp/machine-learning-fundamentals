{
  "nbformat": 4,
  "nbformat_minor": 0,
  "metadata": {
    "colab": {
      "name": "MNIST from scratch.ipynb",
      "provenance": [],
      "collapsed_sections": [],
      "toc_visible": true,
      "authorship_tag": "ABX9TyM/CszOXm5epCVX8bnb7LDY",
      "include_colab_link": true
    },
    "kernelspec": {
      "name": "python3",
      "display_name": "Python 3"
    },
    "language_info": {
      "name": "python"
    }
  },
  "cells": [
    {
      "cell_type": "markdown",
      "metadata": {
        "id": "view-in-github",
        "colab_type": "text"
      },
      "source": [
        "<a href=\"https://colab.research.google.com/github/thanktua-spp/machine-learning-fundamentals/blob/main/MNIST_from_scratch.ipynb\" target=\"_parent\"><img src=\"https://colab.research.google.com/assets/colab-badge.svg\" alt=\"Open In Colab\"/></a>"
      ]
    },
    {
      "cell_type": "code",
      "execution_count": 72,
      "metadata": {
        "id": "C4IXuHE5v4hm"
      },
      "outputs": [],
      "source": [
        "import numpy as np\n",
        "import matplotlib.pyplot as plt\n",
        "import tensorflow as tf\n",
        "from tensorflow.keras.datasets import mnist\n",
        "from IPython.core.pylabtools import figsize\n",
        "import seaborn as sns\n",
        "\n",
        "from sklearn.preprocessing import OrdinalEncoder\n",
        "from sklearn.preprocessing import OneHotEncoder\n",
        "  "
      ]
    },
    {
      "cell_type": "code",
      "source": [
        ""
      ],
      "metadata": {
        "id": "yHqIhU4w3Y_o"
      },
      "execution_count": null,
      "outputs": []
    },
    {
      "cell_type": "markdown",
      "source": [
        "## Utilities"
      ],
      "metadata": {
        "id": "YbokCAoS3Z0E"
      }
    },
    {
      "cell_type": "code",
      "source": [
        "def log_print(X, y, tag='Train'):\n",
        "  print(f'X {tag} shape = {X.shape}')\n",
        "  print(f'y {tag} shape = {y.shape}')\n",
        "\n",
        "\n",
        "def norm_data(X, y):\n",
        "  \"\"\"\n",
        "  Will also help to reshape y\"\"\"\n",
        "  X_data = X / 255\n",
        "  y_data = y.reshape(y.shape[0], -1)\n",
        "  return X_data, y_data\n",
        "\n",
        "def flatten(X):\n",
        "  X_data = X.reshape(X.shape[0], -1)\n",
        "  return X_data\n",
        "\n",
        "def plot_images(X, y):\n",
        "  plt.figure(figsize=(10,10))\n",
        "  for i in range(9):\n",
        "    plt.subplot(3, 3, i+1)\n",
        "    plt.imshow(X[i])\n",
        "    plt.title(y[i])\n",
        "  plt.show()\n",
        "\n",
        "\n",
        "def extract_classes(X, y, num_classes):\n",
        "  X = X[np.where(y < num_classes)]\n",
        "  y = y[y < num_classes]\n",
        "  return X,y\n",
        "\n",
        "\n",
        "def trim_data(X, y, ns):   \n",
        "  X = X[:ns]\n",
        "  y = y[:ns]\n",
        "  return X, y\n",
        "\n",
        "def predict(X_train, W):\n",
        "  y_cat = np.zeros((X_train.shape[0],1))\n",
        "  z = compute_z(X_train, W)\n",
        "  y_pred = sigmoid(z)\n",
        "  y_cat[y_pred > 0.5] = 1\n",
        "  return y_cat\n",
        "  \n",
        "\n",
        "def accuracy(X, y, W):\n",
        "  y_pred = predict(X, W)\n",
        "  return sum(y == y_pred) / y.shape[0]\n",
        "\n",
        "\n",
        "def hotencode(y):\n",
        "  onehot_encoder = OneHotEncoder(sparse=False)\n",
        "  if y.ndim != 2:\n",
        "    y = y.reshape(-1, 1)\n",
        "  return onehot_encoder.fit_transform(y)\n"
      ],
      "metadata": {
        "id": "Rs_9x4aY00GZ"
      },
      "execution_count": 73,
      "outputs": []
    },
    {
      "cell_type": "markdown",
      "source": [
        "## Import data"
      ],
      "metadata": {
        "id": "30YfjlBA2bsz"
      }
    },
    {
      "cell_type": "code",
      "source": [
        "(x_train, y_train), (x_test, y_test) = tf.keras.datasets.mnist.load_data(path='mnist.npz')"
      ],
      "metadata": {
        "id": "mNXTTVRj1GkW"
      },
      "execution_count": 7,
      "outputs": []
    },
    {
      "cell_type": "code",
      "source": [
        "log_print(x_train, y_train)\n",
        "log_print(x_test, y_test)"
      ],
      "metadata": {
        "colab": {
          "base_uri": "https://localhost:8080/"
        },
        "id": "Vc_VfDug1S_a",
        "outputId": "1bf45dfd-7d85-446b-c8f8-5112ea31d963"
      },
      "execution_count": 8,
      "outputs": [
        {
          "output_type": "stream",
          "name": "stdout",
          "text": [
            "X Train shape = (60000, 28, 28)\n",
            "y Train shape = (60000,)\n",
            "X Train shape = (10000, 28, 28)\n",
            "y Train shape = (10000,)\n"
          ]
        }
      ]
    },
    {
      "cell_type": "code",
      "source": [
        ""
      ],
      "metadata": {
        "id": "oJlXhTAH3msO"
      },
      "execution_count": null,
      "outputs": []
    },
    {
      "cell_type": "code",
      "source": [
        "plot_images(x_train, y_train)"
      ],
      "metadata": {
        "colab": {
          "base_uri": "https://localhost:8080/",
          "height": 607
        },
        "id": "4k849B5z3xVH",
        "outputId": "3f93a5b3-9679-4e45-c2dc-292ee7bc5810"
      },
      "execution_count": 9,
      "outputs": [
        {
          "output_type": "display_data",
          "data": {
            "text/plain": [
              "<Figure size 720x720 with 9 Axes>"
            ],
            "image/png": "[encoded data removed]"
          },
          "metadata": {
            "needs_background": "light"
          }
        }
      ]
    },
    {
      "cell_type": "code",
      "source": [
        "plot_images(x_test, y_test)"
      ],
      "metadata": {
        "colab": {
          "base_uri": "https://localhost:8080/",
          "height": 607
        },
        "id": "8dCgjDpK2vdB",
        "outputId": "71c97f43-d1c5-45c5-e026-e17f18396e48"
      },
      "execution_count": 10,
      "outputs": [
        {
          "output_type": "display_data",
          "data": {
            "text/plain": [
              "<Figure size 720x720 with 9 Axes>"
            ],
            "image/png": "[encoded data removed]"
          },
          "metadata": {
            "needs_background": "light"
          }
        }
      ]
    },
    {
      "cell_type": "code",
      "source": [
        ""
      ],
      "metadata": {
        "id": "j0N-WQMW3-1l"
      },
      "execution_count": null,
      "outputs": []
    },
    {
      "cell_type": "code",
      "source": [
        "x_train_bin, y_train_bin = extract_classes(x_train, y_train, 2)\n",
        "x_test_bin, y_test_bin = extract_classes(x_test, y_test, 2)\n",
        "\n",
        "log_print(x_train_bin, y_train_bin)\n",
        "log_print(x_test_bin, y_test_bin)"
      ],
      "metadata": {
        "colab": {
          "base_uri": "https://localhost:8080/"
        },
        "id": "0zXgNjjN45EE",
        "outputId": "3ced85b1-8f7b-439d-8c3e-c1134def4c72"
      },
      "execution_count": 11,
      "outputs": [
        {
          "output_type": "stream",
          "name": "stdout",
          "text": [
            "X Train shape = (12665, 28, 28)\n",
            "y Train shape = (12665,)\n",
            "X Train shape = (2115, 28, 28)\n",
            "y Train shape = (2115,)\n"
          ]
        }
      ]
    },
    {
      "cell_type": "code",
      "source": [
        ""
      ],
      "metadata": {
        "id": "WhrrkdUs2b9z"
      },
      "execution_count": null,
      "outputs": []
    },
    {
      "cell_type": "code",
      "source": [
        "plt.figure(figsize=(20,20))\n",
        "sns.heatmap(x_train_bin[0], annot=True, fmt='.1f')"
      ],
      "metadata": {
        "colab": {
          "base_uri": "https://localhost:8080/",
          "height": 746
        },
        "id": "7vF7t0JL6USC",
        "outputId": "d3033c1e-3d83-4a34-e405-a22409af4193"
      },
      "execution_count": 14,
      "outputs": [
        {
          "output_type": "execute_result",
          "data": {
            "text/plain": [
              "<matplotlib.axes._subplots.AxesSubplot at 0x7ff0b48d4150>"
            ]
          },
          "metadata": {},
          "execution_count": 14
        },
        {
          "output_type": "display_data",
          "data": {
            "text/plain": [
              "<Figure size 1440x1440 with 2 Axes>"
            ],
            "image/png": "[encoded data removed]"
          },
          "metadata": {
            "needs_background": "light"
          }
        }
      ]
    },
    {
      "cell_type": "code",
      "source": [
        ""
      ],
      "metadata": {
        "id": "p8ENPBtv7P0d"
      },
      "execution_count": null,
      "outputs": []
    },
    {
      "cell_type": "markdown",
      "source": [
        "## Data Transformation (Pre-processing)\n",
        "\n",
        "- Normalization: Transforms each individual feature within the range of zero and o"
      ],
      "metadata": {
        "id": "TZaay_n87QQp"
      }
    },
    {
      "cell_type": "code",
      "source": [
        "log_print(x_train_bin, y_train_bin)\n",
        "log_print(x_test_bin, y_train_bin)\n"
      ],
      "metadata": {
        "colab": {
          "base_uri": "https://localhost:8080/"
        },
        "id": "fKrT_4WH7J03",
        "outputId": "b18e1665-0ab9-4be2-8c6f-e68381eaf257"
      },
      "execution_count": 15,
      "outputs": [
        {
          "output_type": "stream",
          "name": "stdout",
          "text": [
            "X Train shape = (12665, 28, 28)\n",
            "y Train shape = (12665,)\n",
            "X Train shape = (2115, 28, 28)\n",
            "y Train shape = (12665,)\n"
          ]
        }
      ]
    },
    {
      "cell_type": "code",
      "source": [
        "x_train_norm, y_train_norm = norm_data(x_train_bin, y_train_bin)\n",
        "x_test_norm, y_test_norm = norm_data(x_test_bin, y_test_bin)\n",
        "\n",
        "log_print(x_train_norm, y_train_norm)\n",
        "log_print(x_test_norm, y_test_norm, \"Test\")\n",
        "\n",
        "print(\"*****************************\")\n",
        "x_train_flat = flatten(x_train_norm)\n",
        "x_test_flat = flatten(x_test_norm)\n",
        "\n",
        "log_print(x_train_flat, y_test_norm)\n",
        "log_print(x_test_flat, y_test_norm, \"Test\")"
      ],
      "metadata": {
        "colab": {
          "base_uri": "https://localhost:8080/"
        },
        "id": "MVPc-2ZIq-eA",
        "outputId": "196874f2-b9de-431c-a16f-8f924c2fde4f"
      },
      "execution_count": 16,
      "outputs": [
        {
          "output_type": "stream",
          "name": "stdout",
          "text": [
            "X Train shape = (12665, 28, 28)\n",
            "y Train shape = (12665, 1)\n",
            "X Test shape = (2115, 28, 28)\n",
            "y Test shape = (2115, 1)\n",
            "*****************************\n",
            "X Train shape = (12665, 784)\n",
            "y Train shape = (2115, 1)\n",
            "X Test shape = (2115, 784)\n",
            "y Test shape = (2115, 1)\n"
          ]
        }
      ]
    },
    {
      "cell_type": "code",
      "source": [
        ""
      ],
      "metadata": {
        "id": "15dLwfBm2uQ8"
      },
      "execution_count": 16,
      "outputs": []
    },
    {
      "cell_type": "code",
      "source": [
        "plt.figure(figsize=(20,20))\n",
        "sns.heatmap(x_train_norm[0], annot=True, fmt='.1f')"
      ],
      "metadata": {
        "colab": {
          "base_uri": "https://localhost:8080/",
          "height": 750
        },
        "id": "fV44Er_YrDPC",
        "outputId": "3883fdd3-8896-40d7-9576-59693ab08d32"
      },
      "execution_count": 17,
      "outputs": [
        {
          "output_type": "execute_result",
          "data": {
            "text/plain": [
              "<matplotlib.axes._subplots.AxesSubplot at 0x7ff0b4c30990>"
            ]
          },
          "metadata": {},
          "execution_count": 17
        },
        {
          "output_type": "display_data",
          "data": {
            "text/plain": [
              "<Figure size 1440x1440 with 2 Axes>"
            ],
            "image/png": "[encoded data removed]"
          },
          "metadata": {
            "needs_background": "light"
          }
        }
      ]
    },
    {
      "cell_type": "code",
      "source": [
        "ntrain_s = 500\n",
        "ntest_s = 50\n",
        "\n",
        "X_train_tr, y_train_tr = trim_data(x_train_flat, y_train_norm, ntrain_s)\n",
        "X_test_tr, y_test_tr = trim_data(x_test_flat, y_test_norm, ntest_s)\n",
        "\n",
        "log_print(X_train_tr, y_train_tr, tag='Train')\n",
        "log_print(X_test_tr, y_test_tr, tag='Test')"
      ],
      "metadata": {
        "colab": {
          "base_uri": "https://localhost:8080/"
        },
        "id": "ZnCoBDDlsJ2s",
        "outputId": "e247f7f4-00f8-4cdd-9be4-6cc8e955a8bb"
      },
      "execution_count": 18,
      "outputs": [
        {
          "output_type": "stream",
          "name": "stdout",
          "text": [
            "X Train shape = (500, 784)\n",
            "y Train shape = (500, 1)\n",
            "X Test shape = (50, 784)\n",
            "y Test shape = (50, 1)\n"
          ]
        }
      ]
    },
    {
      "cell_type": "code",
      "source": [
        "class Logistic_Regression:\n",
        "  def __init__(self):\n",
        "    self.model_weight = None #np.zeros((1,1))\n",
        "\n",
        "  def _init_params(self, X_train):\n",
        "    \"\"\"\n",
        "    Zero initialize parameters using the number of features\n",
        "    \"\"\"\n",
        "    n_features = X_train.shape[1]\n",
        "    self.model_weight = np.zeros((n_features,1))\n",
        "    return self.model_weight\n",
        "\n",
        "  def _compute_z(self, X_train):\n",
        "    z = np.matmul(X_train, self.model_weight)\n",
        "    return z\n",
        "\n",
        "  def _sigmoid(self, z):\n",
        "    y_hat = 1 / (1 + np.exp(-z))\n",
        "    return y_hat\n",
        "\n",
        "\n",
        "  def _comput_cost(self, y_train, y_hat):\n",
        "    loss = -(y_train * np.log(y_hat) + (1-y_train)*np.log(1-y_hat))\n",
        "    cost = np.mean(loss)  \n",
        "    return cost\n",
        "\n",
        "  def _compute_gradients(self, X_train, y_train, y_hat):\n",
        "    weight_grads = (1/X_train.shape[0])*(np.dot(X_train.T, (y_hat - y_train)))\n",
        "    return weight_grads\n",
        "\n",
        "  def _update_grad(self, W_grad, lr = 0.01):\n",
        "    self.model_weight = self.model_weight - lr*W_grad\n",
        "    assert W_grad.shape == self.model_weight.shape\n",
        "    return W_grad\n",
        "\n",
        "  def fit_classifier(self, X_train, y_train, epochs, lr = 0.01):\n",
        "    self.model_weight = self._init_params(X_train)\n",
        "    \n",
        "    cost_list = []\n",
        "    for i in range(epochs):\n",
        "      z = self._compute_z(X_train)\n",
        "      y_hat = self._sigmoid(z)\n",
        "      cost = self._comput_cost(y_train, y_hat)\n",
        "      grads = self._compute_gradients(X_train, y_train, y_hat)\n",
        "      self.model_weight = self._update_grad(grads)\n",
        "      cost_list.append(cost)\n",
        "      print(cost)\n",
        "    return cost_list\n",
        "\n",
        "  def predict(self, X_train):\n",
        "    y_cat = np.zeros((X_train.shape[0],1))\n",
        "    z = self._compute_z(X_train)\n",
        "    y_pred = self._sigmoid(z)\n",
        "    y_cat[y_pred > 0.5] = 1\n",
        "    return y_cat\n"
      ],
      "metadata": {
        "id": "HREAbemurfUt"
      },
      "execution_count": null,
      "outputs": []
    },
    {
      "cell_type": "code",
      "source": [
        "model = Logistic_Regression()\n",
        "model.model_weight"
      ],
      "metadata": {
        "colab": {
          "base_uri": "https://localhost:8080/"
        },
        "id": "X42vquOOtlIZ",
        "outputId": "f6899d0a-344f-41b9-f6cb-2ccb440c50b1"
      },
      "execution_count": null,
      "outputs": [
        {
          "output_type": "execute_result",
          "data": {
            "text/plain": [
              "array([[0.]])"
            ]
          },
          "metadata": {},
          "execution_count": 182
        }
      ]
    },
    {
      "cell_type": "code",
      "source": [
        "# epochs = 5\n",
        "# learning_rate = 0.001\n",
        "# history =  model.fit_classifier(X_t, y_t, epochs, learning_rate)\n",
        "# #binary_model.predict(X)"
      ],
      "metadata": {
        "id": "AqetxeZer_g6"
      },
      "execution_count": null,
      "outputs": []
    },
    {
      "cell_type": "code",
      "source": [
        "# from sklearn.datasets import make_blobs\n",
        "# X, y = make_blobs(n_samples=20, centers=2, n_features=2, cluster_std=2)\n",
        "# y = y.reshape(y.shape[0],1)"
      ],
      "metadata": {
        "id": "RpsDZfpYwOVf"
      },
      "execution_count": null,
      "outputs": []
    },
    {
      "cell_type": "code",
      "source": [
        ""
      ],
      "metadata": {
        "colab": {
          "base_uri": "https://localhost:8080/"
        },
        "id": "3iiteanjw7V7",
        "outputId": "c9e7d43e-b126-4b8a-faa9-f2cd01bb64e1"
      },
      "execution_count": null,
      "outputs": [
        {
          "output_type": "execute_result",
          "data": {
            "text/plain": [
              "2"
            ]
          },
          "metadata": {},
          "execution_count": 91
        }
      ]
    },
    {
      "cell_type": "code",
      "source": [
        "def init_params(X_train):\n",
        "  \"\"\"\n",
        "  Zero initialize parameters using the number of features\n",
        "  \"\"\"\n",
        "  n_features = X_train.shape[1]\n",
        "\n",
        "  # Zero_initialize\n",
        "  Weight_param = np.zeros((n_features,1))\n",
        "\n",
        "  return Weight_param\n",
        "\n",
        "\n",
        "def compute_z(X_train, W):\n",
        "  z = np.matmul(X_train, W)\n",
        "  return z\n",
        "\n",
        "def sigmoid(z):\n",
        "  y_hat = 1 / (1 + np.exp(-z))\n",
        "  return y_hat\n",
        "\n",
        "\n",
        "def comput_cost(y_train, y_hat):\n",
        "  assert y_train.ndim == 2\n",
        "  loss = -(y_train * np.log(y_hat) + (1-y_train)*np.log(1-y_hat))\n",
        "  cost = np.mean(loss)  \n",
        "  return cost\n",
        "\n",
        "\n",
        "def compute_gradients(X_train, y_train, y_hat):\n",
        "  weight_grads = (1/X_train.shape[0])*(np.dot(X_train.T, (y_hat - y_train)))\n",
        "  return weight_grads\n",
        "\n",
        "\n",
        "def update_grad(W, W_grad, lr = 0.01):\n",
        "  updategrads = W - lr*W_grad\n",
        "  assert updategrads.shape == W.shape\n",
        "  return updategrads\n",
        "\n",
        "\n",
        "def fit_classifier(X_train, y_train, epochs, lr = 0.01, verbose=True):\n",
        "  cost_list = []\n",
        "  W = init_params(X_train)\n",
        "  \n",
        "  for i in range(epochs):\n",
        "    z = compute_z(X_train, W)\n",
        "    y_hat = sigmoid(z)\n",
        "    cost = comput_cost(y_train, y_hat)\n",
        "    grads = compute_gradients(X_train, y_train, y_hat)\n",
        "    W = update_grad(W, grads)\n",
        "    cost_list.append(cost)\n",
        "    if i % 100 == 0 and verbose==True:\n",
        "      print(cost)\n",
        "  return cost_list, W"
      ],
      "metadata": {
        "id": "M8HA6wVztCUZ"
      },
      "execution_count": 19,
      "outputs": []
    },
    {
      "cell_type": "code",
      "source": [
        "epochs = 500\n",
        "cost_history, weights =  fit_classifier(X_train_tr, y_train_tr, epochs, lr = 0.01, verbose=True)"
      ],
      "metadata": {
        "colab": {
          "base_uri": "https://localhost:8080/"
        },
        "id": "nJv_L6zOvPlf",
        "outputId": "17bfbe05-a734-4f3e-e768-6958ba656e0b"
      },
      "execution_count": 20,
      "outputs": [
        {
          "output_type": "stream",
          "name": "stdout",
          "text": [
            "0.6931471805599454\n",
            "0.11720024203137867\n",
            "0.0698428363773364\n",
            "0.0521861030181343\n",
            "0.0427862072436316\n"
          ]
        }
      ]
    },
    {
      "cell_type": "code",
      "source": [
        "plt.plot(cost_history)"
      ],
      "metadata": {
        "colab": {
          "base_uri": "https://localhost:8080/",
          "height": 282
        },
        "id": "m2vSUg5lvXvH",
        "outputId": "54c3e8a9-6207-4f7b-96c0-cf2278c02c9f"
      },
      "execution_count": 21,
      "outputs": [
        {
          "output_type": "execute_result",
          "data": {
            "text/plain": [
              "[<matplotlib.lines.Line2D at 0x7ff0afccf810>]"
            ]
          },
          "metadata": {},
          "execution_count": 21
        },
        {
          "output_type": "display_data",
          "data": {
            "text/plain": [
              "<Figure size 432x288 with 1 Axes>"
            ],
            "image/png": "[encoded data removed]"
          },
          "metadata": {
            "needs_background": "light"
          }
        }
      ]
    },
    {
      "cell_type": "code",
      "source": [
        ""
      ],
      "metadata": {
        "id": "xavNj6c7y7TM"
      },
      "execution_count": null,
      "outputs": []
    },
    {
      "cell_type": "code",
      "source": [
        ""
      ],
      "metadata": {
        "id": "Xc-uuna2xh2d"
      },
      "execution_count": null,
      "outputs": []
    },
    {
      "cell_type": "code",
      "source": [
        "train_acc = accuracy(X_train_tr, y_train_tr, weights)\n",
        "train_acc"
      ],
      "metadata": {
        "colab": {
          "base_uri": "https://localhost:8080/"
        },
        "id": "OmAspe5HzF8D",
        "outputId": "ca7e732c-aeba-406a-ce23-170bfcf76838"
      },
      "execution_count": 22,
      "outputs": [
        {
          "output_type": "execute_result",
          "data": {
            "text/plain": [
              "array([0.998])"
            ]
          },
          "metadata": {},
          "execution_count": 22
        }
      ]
    },
    {
      "cell_type": "code",
      "source": [
        "test_acc = accuracy(X_test_tr, y_test_tr, weights)\n",
        "test_acc"
      ],
      "metadata": {
        "colab": {
          "base_uri": "https://localhost:8080/"
        },
        "id": "uCqWlJWfz7b2",
        "outputId": "ae4b9878-0df5-4bb3-d8dd-adf7784ce4a0"
      },
      "execution_count": 23,
      "outputs": [
        {
          "output_type": "execute_result",
          "data": {
            "text/plain": [
              "array([1.])"
            ]
          },
          "metadata": {},
          "execution_count": 23
        }
      ]
    },
    {
      "cell_type": "code",
      "source": [
        ""
      ],
      "metadata": {
        "id": "QG8EtXVJBRAr"
      },
      "execution_count": null,
      "outputs": []
    },
    {
      "cell_type": "markdown",
      "source": [
        "## Usin Keras framework "
      ],
      "metadata": {
        "id": "COmNTHvJ124P"
      }
    },
    {
      "cell_type": "code",
      "source": [
        "model = tf.keras.Sequential()\n",
        "model.add(tf.keras.layers.Dense(1,  activation='softmax', input_shape=(x_train_flat.shape[1],)))\n",
        "model.summary()"
      ],
      "metadata": {
        "colab": {
          "base_uri": "https://localhost:8080/"
        },
        "id": "OWKdaejfBZQH",
        "outputId": "4121d517-468c-491d-f122-1ca1a10ecb63"
      },
      "execution_count": 34,
      "outputs": [
        {
          "output_type": "stream",
          "name": "stdout",
          "text": [
            "Model: \"sequential_2\"\n",
            "_________________________________________________________________\n",
            " Layer (type)                Output Shape              Param #   \n",
            "=================================================================\n",
            " dense_2 (Dense)             (None, 1)                 785       \n",
            "                                                                 \n",
            "=================================================================\n",
            "Total params: 785\n",
            "Trainable params: 785\n",
            "Non-trainable params: 0\n",
            "_________________________________________________________________\n"
          ]
        }
      ]
    },
    {
      "cell_type": "code",
      "source": [
        "model.compile(\n",
        "    optimizer=\"sgd\",\n",
        "    loss='bce',\n",
        "    metrics=['accuracy']\n",
        ")"
      ],
      "metadata": {
        "id": "EML-0l8FBZMo"
      },
      "execution_count": 35,
      "outputs": []
    },
    {
      "cell_type": "code",
      "source": [
        "history = model.fit(\n",
        "          x=x_train_flat,\n",
        "          y=y_train_norm,\n",
        "          epochs=50,\n",
        "          verbose=\"auto\"\n",
        ")"
      ],
      "metadata": {
        "colab": {
          "base_uri": "https://localhost:8080/"
        },
        "id": "8I5Q3eL6BZIq",
        "outputId": "f9c4dd1b-8d39-4ff4-9510-ae81ab67951a"
      },
      "execution_count": 36,
      "outputs": [
        {
          "output_type": "stream",
          "name": "stdout",
          "text": [
            "Epoch 1/50\n",
            "396/396 [==============================] - 1s 1ms/step - loss: 0.1084 - accuracy: 0.5323\n",
            "Epoch 2/50\n",
            "396/396 [==============================] - 1s 1ms/step - loss: 0.0331 - accuracy: 0.5323\n",
            "Epoch 3/50\n",
            "396/396 [==============================] - 1s 1ms/step - loss: 0.0232 - accuracy: 0.5323\n",
            "Epoch 4/50\n",
            "396/396 [==============================] - 1s 1ms/step - loss: 0.0187 - accuracy: 0.5323\n",
            "Epoch 5/50\n",
            "396/396 [==============================] - 1s 2ms/step - loss: 0.0161 - accuracy: 0.5323\n",
            "Epoch 6/50\n",
            "396/396 [==============================] - 1s 3ms/step - loss: 0.0143 - accuracy: 0.5323\n",
            "Epoch 7/50\n",
            "396/396 [==============================] - 1s 1ms/step - loss: 0.0130 - accuracy: 0.5323\n",
            "Epoch 8/50\n",
            "396/396 [==============================] - 1s 1ms/step - loss: 0.0120 - accuracy: 0.5323\n",
            "Epoch 9/50\n",
            "396/396 [==============================] - 1s 1ms/step - loss: 0.0112 - accuracy: 0.5323\n",
            "Epoch 10/50\n",
            "396/396 [==============================] - 1s 1ms/step - loss: 0.0106 - accuracy: 0.5323\n",
            "Epoch 11/50\n",
            "396/396 [==============================] - 1s 1ms/step - loss: 0.0101 - accuracy: 0.5323\n",
            "Epoch 12/50\n",
            "396/396 [==============================] - 1s 1ms/step - loss: 0.0096 - accuracy: 0.5323\n",
            "Epoch 13/50\n",
            "396/396 [==============================] - 1s 1ms/step - loss: 0.0092 - accuracy: 0.5323\n",
            "Epoch 14/50\n",
            "396/396 [==============================] - 1s 1ms/step - loss: 0.0089 - accuracy: 0.5323\n",
            "Epoch 15/50\n",
            "396/396 [==============================] - 1s 1ms/step - loss: 0.0086 - accuracy: 0.5323\n",
            "Epoch 16/50\n",
            "396/396 [==============================] - 1s 1ms/step - loss: 0.0083 - accuracy: 0.5323\n",
            "Epoch 17/50\n",
            "396/396 [==============================] - 1s 1ms/step - loss: 0.0081 - accuracy: 0.5323\n",
            "Epoch 18/50\n",
            "396/396 [==============================] - 1s 1ms/step - loss: 0.0079 - accuracy: 0.5323\n",
            "Epoch 19/50\n",
            "396/396 [==============================] - 1s 1ms/step - loss: 0.0077 - accuracy: 0.5323\n",
            "Epoch 20/50\n",
            "396/396 [==============================] - 1s 1ms/step - loss: 0.0075 - accuracy: 0.5323\n",
            "Epoch 21/50\n",
            "396/396 [==============================] - 1s 1ms/step - loss: 0.0073 - accuracy: 0.5323\n",
            "Epoch 22/50\n",
            "396/396 [==============================] - 1s 1ms/step - loss: 0.0072 - accuracy: 0.5323\n",
            "Epoch 23/50\n",
            "396/396 [==============================] - 1s 1ms/step - loss: 0.0070 - accuracy: 0.5323\n",
            "Epoch 24/50\n",
            "396/396 [==============================] - 1s 1ms/step - loss: 0.0069 - accuracy: 0.5323\n",
            "Epoch 25/50\n",
            "396/396 [==============================] - 1s 1ms/step - loss: 0.0068 - accuracy: 0.5323\n",
            "Epoch 26/50\n",
            "396/396 [==============================] - 1s 1ms/step - loss: 0.0066 - accuracy: 0.5323\n",
            "Epoch 27/50\n",
            "396/396 [==============================] - 1s 1ms/step - loss: 0.0065 - accuracy: 0.5323\n",
            "Epoch 28/50\n",
            "396/396 [==============================] - 1s 1ms/step - loss: 0.0064 - accuracy: 0.5323\n",
            "Epoch 29/50\n",
            "396/396 [==============================] - 1s 1ms/step - loss: 0.0063 - accuracy: 0.5323\n",
            "Epoch 30/50\n",
            "396/396 [==============================] - 1s 1ms/step - loss: 0.0062 - accuracy: 0.5323\n",
            "Epoch 31/50\n",
            "396/396 [==============================] - 1s 1ms/step - loss: 0.0061 - accuracy: 0.5323\n",
            "Epoch 32/50\n",
            "396/396 [==============================] - 1s 1ms/step - loss: 0.0061 - accuracy: 0.5323\n",
            "Epoch 33/50\n",
            "396/396 [==============================] - 1s 1ms/step - loss: 0.0060 - accuracy: 0.5323\n",
            "Epoch 34/50\n",
            "396/396 [==============================] - 1s 1ms/step - loss: 0.0059 - accuracy: 0.5323\n",
            "Epoch 35/50\n",
            "396/396 [==============================] - 1s 1ms/step - loss: 0.0058 - accuracy: 0.5323\n",
            "Epoch 36/50\n",
            "396/396 [==============================] - 1s 1ms/step - loss: 0.0058 - accuracy: 0.5323\n",
            "Epoch 37/50\n",
            "396/396 [==============================] - 1s 1ms/step - loss: 0.0057 - accuracy: 0.5323\n",
            "Epoch 38/50\n",
            "396/396 [==============================] - 1s 1ms/step - loss: 0.0056 - accuracy: 0.5323\n",
            "Epoch 39/50\n",
            "396/396 [==============================] - 1s 1ms/step - loss: 0.0056 - accuracy: 0.5323\n",
            "Epoch 40/50\n",
            "396/396 [==============================] - 1s 1ms/step - loss: 0.0055 - accuracy: 0.5323\n",
            "Epoch 41/50\n",
            "396/396 [==============================] - 1s 1ms/step - loss: 0.0055 - accuracy: 0.5323\n",
            "Epoch 42/50\n",
            "396/396 [==============================] - 1s 1ms/step - loss: 0.0054 - accuracy: 0.5323\n",
            "Epoch 43/50\n",
            "396/396 [==============================] - 1s 1ms/step - loss: 0.0054 - accuracy: 0.5323\n",
            "Epoch 44/50\n",
            "396/396 [==============================] - 1s 1ms/step - loss: 0.0053 - accuracy: 0.5323\n",
            "Epoch 45/50\n",
            "396/396 [==============================] - 1s 1ms/step - loss: 0.0053 - accuracy: 0.5323\n",
            "Epoch 46/50\n",
            "396/396 [==============================] - 1s 1ms/step - loss: 0.0052 - accuracy: 0.5323\n",
            "Epoch 47/50\n",
            "396/396 [==============================] - 1s 1ms/step - loss: 0.0052 - accuracy: 0.5323\n",
            "Epoch 48/50\n",
            "396/396 [==============================] - 1s 1ms/step - loss: 0.0051 - accuracy: 0.5323\n",
            "Epoch 49/50\n",
            "396/396 [==============================] - 1s 1ms/step - loss: 0.0051 - accuracy: 0.5323\n",
            "Epoch 50/50\n",
            "396/396 [==============================] - 1s 1ms/step - loss: 0.0050 - accuracy: 0.5323\n"
          ]
        }
      ]
    },
    {
      "cell_type": "code",
      "source": [
        "plt.plot(history.history['accuracy'])"
      ],
      "metadata": {
        "colab": {
          "base_uri": "https://localhost:8080/",
          "height": 282
        },
        "id": "y9ydk72jBZFh",
        "outputId": "6eb0b9d7-e562-4e60-9eda-56504f050e36"
      },
      "execution_count": 37,
      "outputs": [
        {
          "output_type": "execute_result",
          "data": {
            "text/plain": [
              "[<matplotlib.lines.Line2D at 0x7ff0abadb2d0>]"
            ]
          },
          "metadata": {},
          "execution_count": 37
        },
        {
          "output_type": "display_data",
          "data": {
            "text/plain": [
              "<Figure size 432x288 with 1 Axes>"
            ],
            "image/png": "[encoded data removed]"
          },
          "metadata": {
            "needs_background": "light"
          }
        }
      ]
    },
    {
      "cell_type": "code",
      "source": [
        "plt.plot(history.history['loss'])"
      ],
      "metadata": {
        "colab": {
          "base_uri": "https://localhost:8080/",
          "height": 282
        },
        "id": "gc41thG1F1Ot",
        "outputId": "d080ddb2-e53a-4e41-c174-f79894454fb2"
      },
      "execution_count": 33,
      "outputs": [
        {
          "output_type": "execute_result",
          "data": {
            "text/plain": [
              "[<matplotlib.lines.Line2D at 0x7ff0abc75050>]"
            ]
          },
          "metadata": {},
          "execution_count": 33
        },
        {
          "output_type": "display_data",
          "data": {
            "text/plain": [
              "<Figure size 432x288 with 1 Axes>"
            ],
            "image/png": "[encoded data removed]"
          },
          "metadata": {
            "needs_background": "light"
          }
        }
      ]
    },
    {
      "cell_type": "code",
      "source": [
        ""
      ],
      "metadata": {
        "id": "lYpKXL3MHnfD"
      },
      "execution_count": null,
      "outputs": []
    },
    {
      "cell_type": "markdown",
      "source": [
        "### Extra Topics\n",
        "\n",
        "1. Multi-class classification\n",
        "2. The softmax activation and other activations\n",
        "3. sgd and other optimizers\n",
        "4. Layers and setting the model architecture"
      ],
      "metadata": {
        "id": "aSJvfQ1S2hAY"
      }
    },
    {
      "cell_type": "markdown",
      "source": [
        "### Non Linear activations"
      ],
      "metadata": {
        "id": "j4WhFyJ-35_D"
      }
    },
    {
      "cell_type": "markdown",
      "source": [
        "#### sigmoid activation.\n",
        "\n",
        "sigmoid activation function is computed, `sigmoid(z) = 1 / (1 + exp(-z))`"
      ],
      "metadata": {
        "id": "lOXzMyyr3woI"
      }
    },
    {
      "cell_type": "code",
      "source": [
        "xrange = np.linspace(-20,20)\n",
        "y_sigmoid = sigmoid(xrange)\n",
        "plt.plot(xrange, y_sigmoid, 'b')"
      ],
      "metadata": {
        "colab": {
          "base_uri": "https://localhost:8080/",
          "height": 282
        },
        "id": "P5O6EdJL3wV-",
        "outputId": "e8b32363-0b5b-4d28-8b63-51df5b1c005c"
      },
      "execution_count": 55,
      "outputs": [
        {
          "output_type": "execute_result",
          "data": {
            "text/plain": [
              "[<matplotlib.lines.Line2D at 0x7ff0a6974190>]"
            ]
          },
          "metadata": {},
          "execution_count": 55
        },
        {
          "output_type": "display_data",
          "data": {
            "text/plain": [
              "<Figure size 432x288 with 1 Axes>"
            ],
            "image/png": "[encoded data removed]"
          },
          "metadata": {
            "needs_background": "light"
          }
        }
      ]
    },
    {
      "cell_type": "code",
      "source": [
        ""
      ],
      "metadata": {
        "id": "6KJ-wmYF3wSl"
      },
      "execution_count": null,
      "outputs": []
    },
    {
      "cell_type": "markdown",
      "source": [
        "#### softmax activation.\n",
        "The softmax of each vector z is computed as `softmax(z) = exp(z) /sum(exp(z))`\n"
      ],
      "metadata": {
        "id": "rHTh34cR3rTP"
      }
    },
    {
      "cell_type": "code",
      "source": [
        "z = np.array([[10.2, -2, 5]])\n",
        "expz = np.exp(z)\n",
        "expz\n",
        "def softmax(z):\n",
        "  return np.exp(z)/sum(np.exp(z))\n",
        "\n",
        "y_softmax = softmax(xrange)\n",
        "plt.plot(xrange, y_softmax)"
      ],
      "metadata": {
        "colab": {
          "base_uri": "https://localhost:8080/",
          "height": 282
        },
        "id": "rDtGdWiT2UuO",
        "outputId": "2c872a4b-a230-4e06-dbe9-eebddf9a2b94"
      },
      "execution_count": 56,
      "outputs": [
        {
          "output_type": "execute_result",
          "data": {
            "text/plain": [
              "[<matplotlib.lines.Line2D at 0x7ff0a68f6750>]"
            ]
          },
          "metadata": {},
          "execution_count": 56
        },
        {
          "output_type": "display_data",
          "data": {
            "text/plain": [
              "<Figure size 432x288 with 1 Axes>"
            ],
            "image/png": "[encoded data removed]"
          },
          "metadata": {
            "needs_background": "light"
          }
        }
      ]
    },
    {
      "cell_type": "code",
      "source": [
        "expz[0]/sum(expz)"
      ],
      "metadata": {
        "colab": {
          "base_uri": "https://localhost:8080/"
        },
        "id": "M1HbEh5g2UpR",
        "outputId": "8ee0ee86-0c5a-41f9-ca7e-7ab786a576bd"
      },
      "execution_count": 40,
      "outputs": [
        {
          "output_type": "execute_result",
          "data": {
            "text/plain": [
              "0.9945087257155857"
            ]
          },
          "metadata": {},
          "execution_count": 40
        }
      ]
    },
    {
      "cell_type": "code",
      "source": [
        "expz[1]/sum(expz)"
      ],
      "metadata": {
        "colab": {
          "base_uri": "https://localhost:8080/"
        },
        "id": "yCyRJwh72UmA",
        "outputId": "9393008f-3018-4a67-ea23-33f20df51c53"
      },
      "execution_count": 41,
      "outputs": [
        {
          "output_type": "execute_result",
          "data": {
            "text/plain": [
              "5.002831995597229e-06"
            ]
          },
          "metadata": {},
          "execution_count": 41
        }
      ]
    },
    {
      "cell_type": "code",
      "source": [
        "expz[2]/sum(expz)"
      ],
      "metadata": {
        "colab": {
          "base_uri": "https://localhost:8080/"
        },
        "id": "Czb6VZdk2UiJ",
        "outputId": "1d2ae771-9db5-4767-f5f0-1f6c0b92eeb9"
      },
      "execution_count": 42,
      "outputs": [
        {
          "output_type": "execute_result",
          "data": {
            "text/plain": [
              "0.005486271452418738"
            ]
          },
          "metadata": {},
          "execution_count": 42
        }
      ]
    },
    {
      "cell_type": "code",
      "source": [
        "expz / sum(expz)"
      ],
      "metadata": {
        "colab": {
          "base_uri": "https://localhost:8080/"
        },
        "id": "rLvC-Uea2Uev",
        "outputId": "61fe79c4-4484-4fb0-e20a-6b75e94bae39"
      },
      "execution_count": 43,
      "outputs": [
        {
          "output_type": "execute_result",
          "data": {
            "text/plain": [
              "array([9.94508726e-01, 5.00283200e-06, 5.48627145e-03])"
            ]
          },
          "metadata": {},
          "execution_count": 43
        }
      ]
    },
    {
      "cell_type": "code",
      "source": [
        "sum(expz / sum(expz))"
      ],
      "metadata": {
        "colab": {
          "base_uri": "https://localhost:8080/"
        },
        "id": "vRJ3-eZ_2Ubn",
        "outputId": "7f62236a-ace0-4c1d-9a2e-85bafa6937af"
      },
      "execution_count": 44,
      "outputs": [
        {
          "output_type": "execute_result",
          "data": {
            "text/plain": [
              "1.0"
            ]
          },
          "metadata": {},
          "execution_count": 44
        }
      ]
    },
    {
      "cell_type": "code",
      "source": [
        ""
      ],
      "metadata": {
        "id": "n9a9vd082UVn"
      },
      "execution_count": null,
      "outputs": []
    },
    {
      "cell_type": "code",
      "source": [
        "y_train[:10]"
      ],
      "metadata": {
        "colab": {
          "base_uri": "https://localhost:8080/"
        },
        "id": "qcK9ylXL2UR2",
        "outputId": "d6e24a1a-8ece-4f4c-8080-96f5530a2309"
      },
      "execution_count": 57,
      "outputs": [
        {
          "output_type": "execute_result",
          "data": {
            "text/plain": [
              "array([5, 0, 4, 1, 9, 2, 1, 3, 1, 4], dtype=uint8)"
            ]
          },
          "metadata": {},
          "execution_count": 57
        }
      ]
    },
    {
      "cell_type": "code",
      "source": [
        "classes = {'covid', 'no covid', 'maybe'}\n",
        "\n",
        "# Ordinal encoding\n",
        "classes = {'covid':1, 'no covid':2, 'maybe':3}\n",
        "\n",
        "actual_y = [1,\n",
        "            2,\n",
        "            1,\n",
        "            3]\n",
        "            \n",
        "# One-Hot encoding  1  2  3\n",
        "actual_y_encode = [[1, 0, 0],\n",
        "                   [0, 1, 0],\n",
        "                   [1, 0, 0],\n",
        "                   [0, 0, 1]]"
      ],
      "metadata": {
        "id": "ZKiVSVxb2UPM"
      },
      "execution_count": null,
      "outputs": []
    },
    {
      "cell_type": "code",
      "source": [
        "y_train[:10].shape"
      ],
      "metadata": {
        "colab": {
          "base_uri": "https://localhost:8080/"
        },
        "id": "wHgotWhZEMrA",
        "outputId": "54483ef2-f631-4b2d-8e20-b8ee730f41d2"
      },
      "execution_count": 61,
      "outputs": [
        {
          "output_type": "execute_result",
          "data": {
            "text/plain": [
              "(10,)"
            ]
          },
          "metadata": {},
          "execution_count": 61
        }
      ]
    },
    {
      "cell_type": "code",
      "source": [
        "y_slice = y_train[:10]\n",
        "y_slice = y_slice.reshape(-1, 1)\n",
        "y_slice.shape"
      ],
      "metadata": {
        "colab": {
          "base_uri": "https://localhost:8080/"
        },
        "id": "f-mBMeEUDh2s",
        "outputId": "f5513e03-8803-4ab7-e7ee-494a0a35777a"
      },
      "execution_count": 60,
      "outputs": [
        {
          "output_type": "execute_result",
          "data": {
            "text/plain": [
              "(10, 1)"
            ]
          },
          "metadata": {},
          "execution_count": 60
        }
      ]
    },
    {
      "cell_type": "code",
      "source": [
        "\n",
        "# onehot_encoder = OneHotEncoder(sparse=False)\n",
        "# # transform data\n",
        "# result = onehot_encoder.fit_transform(y_slice)"
      ],
      "metadata": {
        "id": "QDCL9a1p2ULw"
      },
      "execution_count": 62,
      "outputs": []
    },
    {
      "cell_type": "code",
      "source": [
        "result;"
      ],
      "metadata": {
        "colab": {
          "base_uri": "https://localhost:8080/"
        },
        "id": "Aq0kkHnQ2UI2",
        "outputId": "362b7121-329d-4caa-dbff-3f2ef7dfbdbb"
      },
      "execution_count": 65,
      "outputs": [
        {
          "output_type": "execute_result",
          "data": {
            "text/plain": [
              "array([[0., 0., 0., 0., 0., 1., 0.],\n",
              "       [1., 0., 0., 0., 0., 0., 0.],\n",
              "       [0., 0., 0., 0., 1., 0., 0.],\n",
              "       [0., 1., 0., 0., 0., 0., 0.],\n",
              "       [0., 0., 0., 0., 0., 0., 1.],\n",
              "       [0., 0., 1., 0., 0., 0., 0.],\n",
              "       [0., 1., 0., 0., 0., 0., 0.],\n",
              "       [0., 0., 0., 1., 0., 0., 0.],\n",
              "       [0., 1., 0., 0., 0., 0., 0.],\n",
              "       [0., 0., 0., 0., 1., 0., 0.]])"
            ]
          },
          "metadata": {},
          "execution_count": 65
        }
      ]
    },
    {
      "cell_type": "code",
      "source": [
        "y_train_enc =  hotencode(y_train)\n",
        "y_test_enc =  hotencode(y_test)"
      ],
      "metadata": {
        "id": "n5dRgnHfEQsD"
      },
      "execution_count": 71,
      "outputs": []
    },
    {
      "cell_type": "code",
      "source": [
        "# transform data\n",
        "y_train_enc.shape[1]"
      ],
      "metadata": {
        "colab": {
          "base_uri": "https://localhost:8080/"
        },
        "id": "oa9XsMgpEgEg",
        "outputId": "ec175b48-5539-4723-85e5-1f018ed640fd"
      },
      "execution_count": 79,
      "outputs": [
        {
          "output_type": "execute_result",
          "data": {
            "text/plain": [
              "10"
            ]
          },
          "metadata": {},
          "execution_count": 79
        }
      ]
    },
    {
      "cell_type": "code",
      "source": [
        "### Model Architecture \n",
        "# Input_dim {Trainable Weights and bias from number of features}\n",
        "# The first layer configuration {Units or perceptron nodes, Activations}\n",
        "# (Optional) More hidden layer configuration\n",
        "# Output_dim layer config {Number of ouputs for reg/class}"
      ],
      "metadata": {
        "id": "6qXTsxMJEhPe"
      },
      "execution_count": 76,
      "outputs": []
    },
    {
      "cell_type": "code",
      "source": [
        "x_train_flat.shape"
      ],
      "metadata": {
        "colab": {
          "base_uri": "https://localhost:8080/"
        },
        "id": "wMbGjxHNM_8Z",
        "outputId": "a63725cb-1f63-437a-ccf9-c104eb898f45"
      },
      "execution_count": 87,
      "outputs": [
        {
          "output_type": "execute_result",
          "data": {
            "text/plain": [
              "(12665, 784)"
            ]
          },
          "metadata": {},
          "execution_count": 87
        }
      ]
    },
    {
      "cell_type": "code",
      "source": [
        ""
      ],
      "metadata": {
        "id": "QmHuDJwVOWdu"
      },
      "execution_count": null,
      "outputs": []
    },
    {
      "cell_type": "code",
      "source": [
        "### Model Architecture \n",
        "model = tf.keras.Sequential(name='Base_Mnist')\n",
        "\n",
        "input_shape = (x_train_flat.shape[1],)\n",
        "layer_ouput = tf.keras.layers.Dense(units=y_train_enc.shape[1], activation='softmax', input_shape=input_shape)\n",
        "model.add(layer_ouput)\n",
        "model.summary()"
      ],
      "metadata": {
        "colab": {
          "base_uri": "https://localhost:8080/"
        },
        "id": "hsWPu0IZEhN-",
        "outputId": "c39c4947-fb39-4d89-eb3c-0176d3798c5d"
      },
      "execution_count": 90,
      "outputs": [
        {
          "output_type": "stream",
          "name": "stdout",
          "text": [
            "Model: \"Base_Mnist\"\n",
            "_________________________________________________________________\n",
            " Layer (type)                Output Shape              Param #   \n",
            "=================================================================\n",
            " dense_8 (Dense)             (None, 10)                7850      \n",
            "                                                                 \n",
            "=================================================================\n",
            "Total params: 7,850\n",
            "Trainable params: 7,850\n",
            "Non-trainable params: 0\n",
            "_________________________________________________________________\n"
          ]
        }
      ]
    },
    {
      "cell_type": "code",
      "source": [
        "\n",
        "# norm_data Normalize X and reshape y\n",
        "x_train_norm, y_train_re = norm_data(x_train, y_train)\n",
        "x_test_norm, y_test_re = norm_data(x_test, y_test)\n",
        "\n",
        "# Flatten X\n",
        "x_train_flat = flatten(x_train_norm)\n",
        "x_test_flat = flatten(x_test_norm)\n",
        "\n",
        "# Encode Y\n",
        "y_train_enc =  hotencode(y_train_re)\n",
        "y_test_enc =  hotencode(y_test_re)"
      ],
      "metadata": {
        "id": "9dBTTA2-P2Pa"
      },
      "execution_count": 102,
      "outputs": []
    },
    {
      "cell_type": "code",
      "source": [
        "x_train_norm[0];\n",
        "y_train_enc;"
      ],
      "metadata": {
        "id": "NwWk7ZxzRi8Z"
      },
      "execution_count": 105,
      "outputs": []
    },
    {
      "cell_type": "code",
      "source": [
        "### Model Architecture \n",
        "base_model = tf.keras.Sequential(name='Base_Mnist')\n",
        "\n",
        "input_shape = (x_train_flat.shape[1],)\n",
        "layer_ouput = tf.keras.layers.Dense(units=y_train_enc.shape[1], activation='softmax', input_shape=input_shape)\n",
        "base_model.add(layer_ouput)\n",
        "base_model.summary()\n"
      ],
      "metadata": {
        "colab": {
          "base_uri": "https://localhost:8080/"
        },
        "id": "uNARbLUATlqc",
        "outputId": "4a9ccda0-6b2b-4162-bcd9-e68455d26d97"
      },
      "execution_count": 121,
      "outputs": [
        {
          "output_type": "stream",
          "name": "stdout",
          "text": [
            "Model: \"Base_Mnist\"\n",
            "_________________________________________________________________\n",
            " Layer (type)                Output Shape              Param #   \n",
            "=================================================================\n",
            " dense_20 (Dense)            (None, 10)                7850      \n",
            "                                                                 \n",
            "=================================================================\n",
            "Total params: 7,850\n",
            "Trainable params: 7,850\n",
            "Non-trainable params: 0\n",
            "_________________________________________________________________\n"
          ]
        }
      ]
    },
    {
      "cell_type": "code",
      "source": [
        ""
      ],
      "metadata": {
        "id": "LEjIW4P9T6p4"
      },
      "execution_count": null,
      "outputs": []
    },
    {
      "cell_type": "code",
      "source": [
        "784*524 + 784*2"
      ],
      "metadata": {
        "colab": {
          "base_uri": "https://localhost:8080/"
        },
        "id": "UN-L9_V9T7QA",
        "outputId": "6fa033e8-4a69-4f1f-c5ad-6cbc57493922"
      },
      "execution_count": 112,
      "outputs": [
        {
          "output_type": "execute_result",
          "data": {
            "text/plain": [
              "412384"
            ]
          },
          "metadata": {},
          "execution_count": 112
        }
      ]
    },
    {
      "cell_type": "code",
      "source": [
        "### Model Architecture \n",
        "dnn_model = tf.keras.Sequential(name='Deep_Mnist')\n",
        "\n",
        "input_shape = (x_train_flat.shape[1],)\n",
        "hidden_layer1 = tf.keras.layers.Dense(units=524, activation='tanh', input_shape=input_shape)\n",
        "hidden_layer2 = tf.keras.layers.Dense(units=64, activation='tanh', input_shape=input_shape)\n",
        "layer_ouput = tf.keras.layers.Dense(units=y_train_enc.shape[1], activation='softmax')\n",
        "\n",
        "dnn_model.add(hidden_layer1)\n",
        "dnn_model.add(hidden_layer2)\n",
        "dnn_model.add(layer_ouput)\n",
        "dnn_model.summary()"
      ],
      "metadata": {
        "colab": {
          "base_uri": "https://localhost:8080/"
        },
        "id": "ZaYi7o9rPyQM",
        "outputId": "48873cf7-0897-4935-f2c3-3a6190d71897"
      },
      "execution_count": 132,
      "outputs": [
        {
          "output_type": "stream",
          "name": "stdout",
          "text": [
            "Model: \"Deep_Mnist\"\n",
            "_________________________________________________________________\n",
            " Layer (type)                Output Shape              Param #   \n",
            "=================================================================\n",
            " dense_23 (Dense)            (None, 524)               411340    \n",
            "                                                                 \n",
            " dense_24 (Dense)            (None, 64)                33600     \n",
            "                                                                 \n",
            " dense_25 (Dense)            (None, 10)                650       \n",
            "                                                                 \n",
            "=================================================================\n",
            "Total params: 445,590\n",
            "Trainable params: 445,590\n",
            "Non-trainable params: 0\n",
            "_________________________________________________________________\n"
          ]
        }
      ]
    },
    {
      "cell_type": "code",
      "source": [
        "### Model compile \n",
        "dnn_model.compile(\n",
        "    optimizer=\"adam\",\n",
        "    loss=tf.keras.losses.CategoricalCrossentropy(),\n",
        "    metrics=['accuracy']\n",
        ")\n",
        "\n",
        "history = dnn_model.fit(\n",
        "          x=x_train_flat,\n",
        "          y=y_train_enc,\n",
        "          epochs=10,\n",
        "          verbose=\"auto\"\n",
        ")"
      ],
      "metadata": {
        "colab": {
          "base_uri": "https://localhost:8080/"
        },
        "id": "3xD5CvP-EhKn",
        "outputId": "a72da6fa-ccd5-4302-c8a1-aa2f90e280f5"
      },
      "execution_count": 133,
      "outputs": [
        {
          "output_type": "stream",
          "name": "stdout",
          "text": [
            "Epoch 1/10\n",
            "1875/1875 [==============================] - 11s 6ms/step - loss: 0.2462 - accuracy: 0.9277\n",
            "Epoch 2/10\n",
            "1875/1875 [==============================] - 11s 6ms/step - loss: 0.1275 - accuracy: 0.9612\n",
            "Epoch 3/10\n",
            "1875/1875 [==============================] - 10s 5ms/step - loss: 0.0921 - accuracy: 0.9719\n",
            "Epoch 4/10\n",
            "1875/1875 [==============================] - 10s 6ms/step - loss: 0.0726 - accuracy: 0.9772\n",
            "Epoch 5/10\n",
            "1875/1875 [==============================] - 10s 5ms/step - loss: 0.0569 - accuracy: 0.9819\n",
            "Epoch 6/10\n",
            "1875/1875 [==============================] - 10s 5ms/step - loss: 0.0486 - accuracy: 0.9845\n",
            "Epoch 7/10\n",
            "1875/1875 [==============================] - 10s 5ms/step - loss: 0.0393 - accuracy: 0.9876\n",
            "Epoch 8/10\n",
            "1875/1875 [==============================] - 10s 6ms/step - loss: 0.0362 - accuracy: 0.9882\n",
            "Epoch 9/10\n",
            "1875/1875 [==============================] - 10s 5ms/step - loss: 0.0285 - accuracy: 0.9910\n",
            "Epoch 10/10\n",
            "1875/1875 [==============================] - 10s 5ms/step - loss: 0.0275 - accuracy: 0.9912\n"
          ]
        }
      ]
    },
    {
      "cell_type": "code",
      "source": [
        "dnn_model.evaluate(x=x_test_flat, y=y_test_enc)"
      ],
      "metadata": {
        "colab": {
          "base_uri": "https://localhost:8080/"
        },
        "id": "IgF-gSVfXxoC",
        "outputId": "45ec7c3b-47b2-4035-aec1-8351344d8d97"
      },
      "execution_count": 134,
      "outputs": [
        {
          "output_type": "stream",
          "name": "stdout",
          "text": [
            "313/313 [==============================] - 1s 3ms/step - loss: 0.0860 - accuracy: 0.9748\n"
          ]
        },
        {
          "output_type": "execute_result",
          "data": {
            "text/plain": [
              "[0.08599480241537094, 0.9747999906539917]"
            ]
          },
          "metadata": {},
          "execution_count": 134
        }
      ]
    },
    {
      "cell_type": "code",
      "source": [
        "dnn_model.evaluate(x=x_test_flat, y=y_test_enc)"
      ],
      "metadata": {
        "colab": {
          "base_uri": "https://localhost:8080/"
        },
        "id": "f0cDB5I1U4rZ",
        "outputId": "a04bdeee-56e6-4d99-adbb-115143d9347e"
      },
      "execution_count": 127,
      "outputs": [
        {
          "output_type": "stream",
          "name": "stdout",
          "text": [
            "313/313 [==============================] - 1s 3ms/step - loss: 0.2250 - accuracy: 0.9361\n"
          ]
        },
        {
          "output_type": "execute_result",
          "data": {
            "text/plain": [
              "[0.2249845415353775, 0.9361000061035156]"
            ]
          },
          "metadata": {},
          "execution_count": 127
        }
      ]
    },
    {
      "cell_type": "code",
      "source": [
        "base_model.evaluate(x=x_test_flat, y=y_test_enc)"
      ],
      "metadata": {
        "colab": {
          "base_uri": "https://localhost:8080/"
        },
        "id": "bnsSoi6CVvPa",
        "outputId": "82adf055-09c2-4590-eff7-25284418efdd"
      },
      "execution_count": 131,
      "outputs": [
        {
          "output_type": "stream",
          "name": "stdout",
          "text": [
            "313/313 [==============================] - 1s 1ms/step - loss: 0.2647 - accuracy: 0.9267\n"
          ]
        },
        {
          "output_type": "execute_result",
          "data": {
            "text/plain": [
              "[0.26472198963165283, 0.9266999959945679]"
            ]
          },
          "metadata": {},
          "execution_count": 131
        }
      ]
    },
    {
      "cell_type": "code",
      "source": [
        "base_model.evaluate(x=x_test_flat, y=y_test_enc)\n",
        "#dnn_model.evaluate(x_test_flat)"
      ],
      "metadata": {
        "colab": {
          "base_uri": "https://localhost:8080/",
          "height": 346
        },
        "id": "bEd9u_snUa2q",
        "outputId": "d4cd52b7-f9ed-45a5-e05b-e0c02ac01a31"
      },
      "execution_count": 120,
      "outputs": [
        {
          "output_type": "error",
          "ename": "TypeError",
          "evalue": "ignored",
          "traceback": [
            "\u001b[0;31m---------------------------------------------------------------------------\u001b[0m",
            "\u001b[0;31mTypeError\u001b[0m                                 Traceback (most recent call last)",
            "\u001b[0;32m<ipython-input-120-fa9c6bf27221>\u001b[0m in \u001b[0;36m<module>\u001b[0;34m()\u001b[0m\n\u001b[0;32m----> 1\u001b[0;31m \u001b[0mbase_model\u001b[0m\u001b[0;34m.\u001b[0m\u001b[0mevaluate\u001b[0m\u001b[0;34m(\u001b[0m\u001b[0mx_test_flat\u001b[0m\u001b[0;34m,\u001b[0m \u001b[0my_test_enc\u001b[0m\u001b[0;34m)\u001b[0m\u001b[0;34m\u001b[0m\u001b[0;34m\u001b[0m\u001b[0m\n\u001b[0m\u001b[1;32m      2\u001b[0m \u001b[0;31m#dnn_model.evaluate(x_test_flat)\u001b[0m\u001b[0;34m\u001b[0m\u001b[0;34m\u001b[0m\u001b[0;34m\u001b[0m\u001b[0m\n",
            "\u001b[0;32m/usr/local/lib/python3.7/dist-packages/keras/utils/traceback_utils.py\u001b[0m in \u001b[0;36merror_handler\u001b[0;34m(*args, **kwargs)\u001b[0m\n\u001b[1;32m     65\u001b[0m     \u001b[0;32mexcept\u001b[0m \u001b[0mException\u001b[0m \u001b[0;32mas\u001b[0m \u001b[0me\u001b[0m\u001b[0;34m:\u001b[0m  \u001b[0;31m# pylint: disable=broad-except\u001b[0m\u001b[0;34m\u001b[0m\u001b[0;34m\u001b[0m\u001b[0m\n\u001b[1;32m     66\u001b[0m       \u001b[0mfiltered_tb\u001b[0m \u001b[0;34m=\u001b[0m \u001b[0m_process_traceback_frames\u001b[0m\u001b[0;34m(\u001b[0m\u001b[0me\u001b[0m\u001b[0;34m.\u001b[0m\u001b[0m__traceback__\u001b[0m\u001b[0;34m)\u001b[0m\u001b[0;34m\u001b[0m\u001b[0;34m\u001b[0m\u001b[0m\n\u001b[0;32m---> 67\u001b[0;31m       \u001b[0;32mraise\u001b[0m \u001b[0me\u001b[0m\u001b[0;34m.\u001b[0m\u001b[0mwith_traceback\u001b[0m\u001b[0;34m(\u001b[0m\u001b[0mfiltered_tb\u001b[0m\u001b[0;34m)\u001b[0m \u001b[0;32mfrom\u001b[0m \u001b[0;32mNone\u001b[0m\u001b[0;34m\u001b[0m\u001b[0;34m\u001b[0m\u001b[0m\n\u001b[0m\u001b[1;32m     68\u001b[0m     \u001b[0;32mfinally\u001b[0m\u001b[0;34m:\u001b[0m\u001b[0;34m\u001b[0m\u001b[0;34m\u001b[0m\u001b[0m\n\u001b[1;32m     69\u001b[0m       \u001b[0;32mdel\u001b[0m \u001b[0mfiltered_tb\u001b[0m\u001b[0;34m\u001b[0m\u001b[0;34m\u001b[0m\u001b[0m\n",
            "\u001b[0;32m/usr/local/lib/python3.7/dist-packages/tensorflow/python/eager/def_function.py\u001b[0m in \u001b[0;36m_call\u001b[0;34m(self, *args, **kwds)\u001b[0m\n\u001b[1;32m    945\u001b[0m       \u001b[0;31m# In this case we have created variables on the first call, so we run the\u001b[0m\u001b[0;34m\u001b[0m\u001b[0;34m\u001b[0m\u001b[0;34m\u001b[0m\u001b[0m\n\u001b[1;32m    946\u001b[0m       \u001b[0;31m# defunned version which is guaranteed to never create variables.\u001b[0m\u001b[0;34m\u001b[0m\u001b[0;34m\u001b[0m\u001b[0;34m\u001b[0m\u001b[0m\n\u001b[0;32m--> 947\u001b[0;31m       \u001b[0;32mreturn\u001b[0m \u001b[0mself\u001b[0m\u001b[0;34m.\u001b[0m\u001b[0m_stateless_fn\u001b[0m\u001b[0;34m(\u001b[0m\u001b[0;34m*\u001b[0m\u001b[0margs\u001b[0m\u001b[0;34m,\u001b[0m \u001b[0;34m**\u001b[0m\u001b[0mkwds\u001b[0m\u001b[0;34m)\u001b[0m  \u001b[0;31m# pylint: disable=not-callable\u001b[0m\u001b[0;34m\u001b[0m\u001b[0;34m\u001b[0m\u001b[0m\n\u001b[0m\u001b[1;32m    948\u001b[0m     \u001b[0;32melif\u001b[0m \u001b[0mself\u001b[0m\u001b[0;34m.\u001b[0m\u001b[0m_stateful_fn\u001b[0m \u001b[0;32mis\u001b[0m \u001b[0;32mnot\u001b[0m \u001b[0;32mNone\u001b[0m\u001b[0;34m:\u001b[0m\u001b[0;34m\u001b[0m\u001b[0;34m\u001b[0m\u001b[0m\n\u001b[1;32m    949\u001b[0m       \u001b[0;31m# Release the lock early so that multiple threads can perform the call\u001b[0m\u001b[0;34m\u001b[0m\u001b[0;34m\u001b[0m\u001b[0;34m\u001b[0m\u001b[0m\n",
            "\u001b[0;31mTypeError\u001b[0m: 'NoneType' object is not callable"
          ]
        }
      ]
    },
    {
      "cell_type": "code",
      "source": [
        "plt.plot(history.history['accuracy'])\n",
        "plt.show()\n",
        "plt.plot(history.history['loss'])\n",
        "plt.show()"
      ],
      "metadata": {
        "colab": {
          "base_uri": "https://localhost:8080/",
          "height": 521
        },
        "id": "XR2EB8oCEhCa",
        "outputId": "c84e17e6-f5ad-497a-991a-10a1425e665a"
      },
      "execution_count": 96,
      "outputs": [
        {
          "output_type": "display_data",
          "data": {
            "text/plain": [
              "<Figure size 432x288 with 1 Axes>"
            ],
            "image/png": "[encoded data removed]"
          },
          "metadata": {
            "needs_background": "light"
          }
        },
        {
          "output_type": "display_data",
          "data": {
            "text/plain": [
              "<Figure size 432x288 with 1 Axes>"
            ],
            "image/png": "[encoded data removed]"
          },
          "metadata": {
            "needs_background": "light"
          }
        }
      ]
    },
    {
      "cell_type": "code",
      "source": [
        ""
      ],
      "metadata": {
        "id": "_N-h9-BwEf8Q"
      },
      "execution_count": null,
      "outputs": []
    }
  ]
}